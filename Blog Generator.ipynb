{
 "cells": [
  {
   "cell_type": "code",
   "execution_count": 19,
   "id": "5a109a3d-415c-45a9-a0e3-f0705f733e75",
   "metadata": {},
   "outputs": [],
   "source": [
    "import os\n",
    "from openai import OpenAI"
   ]
  },
  {
   "cell_type": "code",
   "execution_count": 20,
   "id": "1d8dbfc8-4cf4-4e64-a1a3-bef8917db4ee",
   "metadata": {},
   "outputs": [],
   "source": [
    "os.environ[\"OPENAI_API_KEY\"] = os.getenv(\"OPENAI_API_KEY\")\n",
    "client = OpenAI()"
   ]
  },
  {
   "cell_type": "code",
   "execution_count": null,
   "id": "2c5996eb-a32c-4afa-bfa9-ef3b3e155c39",
   "metadata": {},
   "outputs": [],
   "source": [
    "input_topic = input(\"Enter a topic for your blog\")\n",
    "custom_prompt = f\"\"\"\n",
    "    You are a content writer with years of experience, you need to write a blog with a topic given in the input field below. \n",
    "    Input= {input_topic}\n",
    "\"\"\"\n",
    "response = client.completions.create(\n",
    "    model= \"gpt-3.5-turbo-instruct\",\n",
    "    prompt = custom_prompt,\n",
    "    max_tokens=100,\n",
    "    temperature=1\n",
    ")\n",
    "\n",
    "print(response.choices[0].text)"
   ]
  },
  {
   "cell_type": "code",
   "execution_count": null,
   "id": "e9393c41-1c2a-4bab-a994-af72de43281b",
   "metadata": {},
   "outputs": [],
   "source": []
  }
 ],
 "metadata": {
  "kernelspec": {
   "display_name": "Python 3 (ipykernel)",
   "language": "python",
   "name": "python3"
  },
  "language_info": {
   "codemirror_mode": {
    "name": "ipython",
    "version": 3
   },
   "file_extension": ".py",
   "mimetype": "text/x-python",
   "name": "python",
   "nbconvert_exporter": "python",
   "pygments_lexer": "ipython3",
   "version": "3.12.6"
  }
 },
 "nbformat": 4,
 "nbformat_minor": 5
}
